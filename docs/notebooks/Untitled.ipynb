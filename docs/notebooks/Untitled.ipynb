{
 "cells": [
  {
   "cell_type": "code",
   "execution_count": 1,
   "id": "2bed0b72-ad35-4a91-ab1a-d72932823114",
   "metadata": {},
   "outputs": [
    {
     "name": "stdout",
     "output_type": "stream",
     "text": [
      "yooo\n",
      "<Mesh #1>\n",
      "vector function\n",
      "<firedrake.mesh.MeshTopology object at 0x7f020fdecd60>\n",
      "Lagrange\n",
      "2\n",
      "<firedrake.mesh.MeshTopology object at 0x7f020fdecd60>\n",
      "None\n",
      "hello\n",
      "==========element=========\n",
      "<vector element with 2 components of <CG1 on a triangle>>\n",
      "this is what is returned:\n",
      "yooo\n",
      "<firedrake.mesh.MeshTopology object at 0x7f020fdecd60>\n",
      "None\n",
      "hello\n",
      "-------------------\n",
      "<vector element with 2 components of <CG1 on a triangle>>\n",
      "-------------------\n",
      "FunctionSpace(<firedrake.mesh.MeshTopology object at 0x7f020fdecd60>, <vector element with 2 components of <CG1 on a triangle>>, name=None)\n",
      "this is it ^\n",
      "yooo\n",
      "<firedrake.mesh.MeshTopology object at 0x7f020fdecd60>\n",
      "None\n",
      "hello\n",
      "-------------------\n",
      "<vector element with 2 components of <CG1 on a triangle>>\n",
      "-------------------\n",
      "coordinates_fs:\n",
      "FunctionSpace(<firedrake.mesh.MeshTopology object at 0x7f020fdecd60>, <vector element with 2 components of <CG1 on a triangle>>, name=None)\n",
      "None\n",
      "hello\n",
      "-------------------\n",
      "<CG1 on a triangle>\n",
      "-------------------\n"
     ]
    }
   ],
   "source": [
    "from firedrake import *\n",
    "\n",
    "mesh = UnitSquareMesh(10, 10)\n",
    "\n",
    "V = FunctionSpace(mesh, \"CG\", 1)"
   ]
  },
  {
   "cell_type": "code",
   "execution_count": null,
   "id": "6fafdb46-bf62-495b-88d3-e4917d759368",
   "metadata": {},
   "outputs": [],
   "source": []
  },
  {
   "cell_type": "code",
   "execution_count": null,
   "id": "04baf13f-f047-4a1c-bb68-94a4dc9953cb",
   "metadata": {},
   "outputs": [],
   "source": []
  }
 ],
 "metadata": {
  "kernelspec": {
   "display_name": "firedrake",
   "language": "python",
   "name": "firedrake"
  },
  "language_info": {
   "codemirror_mode": {
    "name": "ipython",
    "version": 3
   },
   "file_extension": ".py",
   "mimetype": "text/x-python",
   "name": "python",
   "nbconvert_exporter": "python",
   "pygments_lexer": "ipython3",
   "version": "3.8.5"
  }
 },
 "nbformat": 4,
 "nbformat_minor": 5
}
